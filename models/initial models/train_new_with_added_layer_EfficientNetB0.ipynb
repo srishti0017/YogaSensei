{
 "cells": [
  {
   "cell_type": "code",
   "execution_count": 7,
   "id": "e475162c",
   "metadata": {},
   "outputs": [
    {
     "name": "stdout",
     "output_type": "stream",
     "text": [
      "Found 6053 images belonging to 4 classes.\n",
      "Found 1030 images belonging to 4 classes.\n",
      "Epoch 1/15\n",
      "189/189 [==============================] - 150s 759ms/step - loss: 1.3094 - accuracy: 0.3866 - val_loss: 1.2758 - val_accuracy: 0.4434\n",
      "Epoch 2/15\n",
      "189/189 [==============================] - 148s 780ms/step - loss: 1.2244 - accuracy: 0.4278 - val_loss: 1.2369 - val_accuracy: 0.4453\n",
      "Epoch 3/15\n",
      "189/189 [==============================] - 175s 928ms/step - loss: 1.1978 - accuracy: 0.4400 - val_loss: 1.2195 - val_accuracy: 0.4414\n",
      "Epoch 4/15\n",
      "189/189 [==============================] - 171s 901ms/step - loss: 1.1859 - accuracy: 0.4489 - val_loss: 1.2162 - val_accuracy: 0.4424\n",
      "Epoch 5/15\n",
      "189/189 [==============================] - 171s 904ms/step - loss: 1.1869 - accuracy: 0.4484 - val_loss: 1.2172 - val_accuracy: 0.4443\n",
      "Epoch 6/15\n",
      "189/189 [==============================] - 170s 897ms/step - loss: 1.1825 - accuracy: 0.4489 - val_loss: 1.2198 - val_accuracy: 0.4434\n",
      "Epoch 7/15\n",
      "189/189 [==============================] - 162s 854ms/step - loss: 1.1873 - accuracy: 0.4484 - val_loss: 1.2167 - val_accuracy: 0.4453\n",
      "Epoch 8/15\n",
      "189/189 [==============================] - 160s 845ms/step - loss: 1.1835 - accuracy: 0.4488 - val_loss: 1.2169 - val_accuracy: 0.4434\n",
      "Epoch 9/15\n",
      "189/189 [==============================] - 155s 819ms/step - loss: 1.1814 - accuracy: 0.4488 - val_loss: 1.2194 - val_accuracy: 0.4453\n",
      "Epoch 10/15\n",
      "189/189 [==============================] - 148s 781ms/step - loss: 1.1830 - accuracy: 0.4486 - val_loss: 1.2207 - val_accuracy: 0.4434\n",
      "Epoch 11/15\n",
      "189/189 [==============================] - 149s 789ms/step - loss: 1.1800 - accuracy: 0.4491 - val_loss: 1.2216 - val_accuracy: 0.4414\n",
      "Epoch 12/15\n",
      "189/189 [==============================] - 156s 827ms/step - loss: 1.1826 - accuracy: 0.4483 - val_loss: 1.2197 - val_accuracy: 0.4414\n",
      "Epoch 13/15\n",
      "189/189 [==============================] - 147s 776ms/step - loss: 1.1812 - accuracy: 0.4481 - val_loss: 1.2195 - val_accuracy: 0.4434\n",
      "Epoch 14/15\n",
      "189/189 [==============================] - 147s 779ms/step - loss: 1.1824 - accuracy: 0.4488 - val_loss: 1.2189 - val_accuracy: 0.4443\n",
      "Epoch 15/15\n",
      "189/189 [==============================] - 139s 737ms/step - loss: 1.1787 - accuracy: 0.4491 - val_loss: 1.2199 - val_accuracy: 0.4414\n"
     ]
    },
    {
     "name": "stderr",
     "output_type": "stream",
     "text": [
      "WARNING:absl:Found untraced functions such as _jit_compiled_convolution_op, _jit_compiled_convolution_op, _jit_compiled_convolution_op, _jit_compiled_convolution_op, _jit_compiled_convolution_op while saving (showing 5 of 82). These functions will not be directly callable after loading.\n"
     ]
    },
    {
     "name": "stdout",
     "output_type": "stream",
     "text": [
      "INFO:tensorflow:Assets written to: C:\\Users\\Lenovo\\AppData\\Local\\Temp\\tmpdjojkkak\\assets\n"
     ]
    },
    {
     "name": "stderr",
     "output_type": "stream",
     "text": [
      "INFO:tensorflow:Assets written to: C:\\Users\\Lenovo\\AppData\\Local\\Temp\\tmpdjojkkak\\assets\n"
     ]
    }
   ],
   "source": [
    "import tensorflow as tf\n",
    "from tensorflow.keras.preprocessing.image import ImageDataGenerator\n",
    "from tensorflow.keras.applications import EfficientNetB0\n",
    "from tensorflow.keras.layers import Dense, GlobalAveragePooling2D, Dropout\n",
    "from tensorflow.keras.models import Model\n",
    "\n",
    "# Define constants\n",
    "NUM_CLASSES = 4  # Number of classes (correct, partially correct, incorrect, none)\n",
    "IMG_WIDTH, IMG_HEIGHT = 150, 150  # Input image dimensions\n",
    "BATCH_SIZE = 32\n",
    "EPOCHS = 15\n",
    "\n",
    "# Load EfficientNetB0 pre-trained model\n",
    "base_model = EfficientNetB0(input_shape=(IMG_WIDTH, IMG_HEIGHT, 3), include_top=False, weights='imagenet')\n",
    "\n",
    "# Freeze the base model's layers\n",
    "for layer in base_model.layers:\n",
    "    layer.trainable = False\n",
    "\n",
    "# Add custom classification layers on top of the base model\n",
    "x = base_model.output\n",
    "x = GlobalAveragePooling2D()(x)\n",
    "x = Dense(1024, activation='relu')(x)\n",
    "x = Dropout(0.5)(x)  # Adding dropout to prevent overfitting\n",
    "x = Dense(512, activation='relu')(x)\n",
    "x = Dropout(0.5)(x)  # Adding another dropout layer\n",
    "x = Dense(256, activation='relu')(x)  # Adding another Dense layer\n",
    "x = Dropout(0.5)(x)  # Adding another dropout layer\n",
    "x = Dense(128, activation='relu')(x)  # Adding another Dense layer\n",
    "x = Dropout(0.5)(x)  # Adding another dropout layer\n",
    "x = Dense(64, activation='relu')(x)  # Adding another Dense layer\n",
    "x = Dropout(0.5)(x)  # Adding another dropout layer\n",
    "x = Dense(32, activation='relu')(x)  # Adding another Dense layer\n",
    "x = Dropout(0.5)(x)  # Adding another dropout layer\n",
    "predictions = Dense(NUM_CLASSES, activation='softmax')(x)\n",
    "\n",
    "model = Model(inputs=base_model.input, outputs=predictions)\n",
    "\n",
    "# Compile the model\n",
    "model.compile(optimizer='adam', loss='categorical_crossentropy', metrics=['accuracy'])\n",
    "\n",
    "# Create data generators for training and validation\n",
    "TRAINING_DIR = r\"C:/Users/Lenovo/Desktop/koi bhi/train/\"\n",
    "train_datagen = ImageDataGenerator(\n",
    "    rescale=1.0 / 255,\n",
    "    rotation_range=40,\n",
    "    width_shift_range=0.2,\n",
    "    height_shift_range=0.2,\n",
    "    shear_range=0.2,\n",
    "    zoom_range=0.2,\n",
    "    horizontal_flip=True,\n",
    "    fill_mode='nearest'\n",
    ")\n",
    "\n",
    "train_generator = train_datagen.flow_from_directory(\n",
    "    TRAINING_DIR,\n",
    "    target_size=(IMG_WIDTH, IMG_HEIGHT),\n",
    "    batch_size=BATCH_SIZE,\n",
    "    class_mode='categorical'\n",
    ")\n",
    "\n",
    "VALIDATION_DIR = r\"C:/Users/Lenovo/Desktop/koi bhi/test/\"\n",
    "validation_datagen = ImageDataGenerator(rescale=1.0 / 255)\n",
    "\n",
    "validation_generator = validation_datagen.flow_from_directory(\n",
    "    VALIDATION_DIR,\n",
    "    target_size=(IMG_WIDTH, IMG_HEIGHT),\n",
    "    batch_size=BATCH_SIZE,\n",
    "    class_mode='categorical'\n",
    ")\n",
    "\n",
    "# Train the model\n",
    "model.fit(\n",
    "    train_generator,\n",
    "    steps_per_epoch=train_generator.n // BATCH_SIZE,\n",
    "    epochs=EPOCHS,\n",
    "    validation_data=validation_generator,\n",
    "    validation_steps=validation_generator.n // BATCH_SIZE\n",
    ")\n",
    "\n",
    "# Save the model as a TensorFlow Lite model\n",
    "converter = tf.lite.TFLiteConverter.from_keras_model(model)\n",
    "tflite_model = converter.convert()\n",
    "\n",
    "# Save the TensorFlow Lite model to a file\n",
    "with open(\"pose_classification_model_new_added_layer_EfficientNetB0.tflite\", \"wb\") as tflite_file:\n",
    "    tflite_file.write(tflite_model)\n"
   ]
  },
  {
   "cell_type": "code",
   "execution_count": null,
   "id": "a15830c4",
   "metadata": {},
   "outputs": [],
   "source": []
  }
 ],
 "metadata": {
  "kernelspec": {
   "display_name": "myenv",
   "language": "python",
   "name": "myenv"
  },
  "language_info": {
   "codemirror_mode": {
    "name": "ipython",
    "version": 3
   },
   "file_extension": ".py",
   "mimetype": "text/x-python",
   "name": "python",
   "nbconvert_exporter": "python",
   "pygments_lexer": "ipython3",
   "version": "3.10.2"
  }
 },
 "nbformat": 4,
 "nbformat_minor": 5
}
