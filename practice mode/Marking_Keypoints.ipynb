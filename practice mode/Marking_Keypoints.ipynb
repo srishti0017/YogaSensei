{
 "cells": [
  {
   "cell_type": "code",
   "execution_count": null,
   "id": "56bea58c",
   "metadata": {},
   "outputs": [],
   "source": [
    "import mediapipe as mp\n",
    "import cv2\n",
    "\n",
    "mpPose = mp.solutions.pose\n",
    "pose = mpPose.Pose()\n",
    "mpDraw = mp.solutions.drawing_utils  # For drawing keypoints\n",
    "\n",
    "# Open the video file\n",
    "video_path = r\"C:\\Users\\Lenovo\\Desktop\\Yoga Capstone\\videos1\\incorrect\\hands not joined\\icb.mp4\"\n",
    "# video_path = r\"C:\\Users\\Lenovo\\Desktop\\Yoga Capstone\\videos1\\correct\\1.mp4\"\n",
    "video = cv2.VideoCapture(video_path)\n",
    "\n",
    "# Check if the video file was successfully opened\n",
    "if not video.isOpened():\n",
    "    print(\"Error opening video file\")\n",
    "    exit()\n",
    "\n",
    "# Get video properties\n",
    "frame_width = int(video.get(cv2.CAP_PROP_FRAME_WIDTH))\n",
    "frame_height = int(video.get(cv2.CAP_PROP_FRAME_HEIGHT))\n",
    "fps = video.get(cv2.CAP_PROP_FPS)\n",
    "\n",
    "# Create a VideoWriter object to save the final video\n",
    "output_path = r\"C:\\Users\\Lenovo\\Desktop\\incorrect_keypoint.mp4\"\n",
    "fourcc = cv2.VideoWriter_fourcc(*\"mp4v\")\n",
    "out = cv2.VideoWriter(output_path, fourcc, fps, (frame_width, frame_height))\n",
    "\n",
    "while True:\n",
    "    # Read the next frame from the video\n",
    "    ret, frame = video.read()\n",
    "\n",
    "    # Check if a frame was successfully read\n",
    "    if not ret:\n",
    "        break\n",
    "\n",
    "    # Convert the frame to RGB\n",
    "    frame_rgb = cv2.cvtColor(frame, cv2.COLOR_BGR2RGB)\n",
    "\n",
    "    # Process the frame to detect pose landmarks\n",
    "    results = pose.process(frame_rgb)\n",
    "\n",
    "    # Draw landmarks on the frame\n",
    "    if results.pose_landmarks:\n",
    "        mpDraw.draw_landmarks(frame, results.pose_landmarks, mpPose.POSE_CONNECTIONS)\n",
    "\n",
    "    # Write the modified frame to the output video\n",
    "    out.write(frame)\n",
    "\n",
    "# Release the video objects\n",
    "video.release()\n",
    "out.release()\n",
    "\n",
    "print(\"Output video saved successfully.\")\n"
   ]
  }
 ],
 "metadata": {
  "kernelspec": {
   "display_name": "myenv",
   "language": "python",
   "name": "myenv"
  },
  "language_info": {
   "codemirror_mode": {
    "name": "ipython",
    "version": 3
   },
   "file_extension": ".py",
   "mimetype": "text/x-python",
   "name": "python",
   "nbconvert_exporter": "python",
   "pygments_lexer": "ipython3",
   "version": "3.10.2"
  }
 },
 "nbformat": 4,
 "nbformat_minor": 5
}
